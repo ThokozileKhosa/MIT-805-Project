{
  "cells": [
    {
      "cell_type": "code",
      "execution_count": 0,
      "metadata": {
        "autoscroll": "auto"
      },
      "outputs": [],
      "source": [
        "from pyspark.sql import SparkSession\n",
        "from pyspark.sql import functions as F\n",
        "from pyspark.sql.types import StructType, StructField, StringType, IntegerType\n",
        "import matplotlib.pyplot as plt\n",
        "import seaborn as sns\n",
        "import re\n",
        "spark = SparkSession.builder.appName(\"Read HDFS Image Data\").getOrCreate()"
      ]
    },
    {
      "cell_type": "code",
      "execution_count": 1,
      "metadata": {
        "autoscroll": "auto"
      },
      "outputs": [],
      "source": [
        "# Function to process each HDFS directory and generate the plots\n",
        "def process_hdfs_and_plot(hdfs_path, title_prefix):\n",
        "    # Define schema\n",
        "    schema = StructType([StructField(\"Colour\", StringType(), True),\n",
        "                         StructField(\"Count\", IntegerType(), True)])\n",
        "    \n",
        "    # Load data from HDFS\n",
        "    df = spark.read.csv(hdfs_path, sep='\\t', header=False, schema=schema)\n",
        "    \n",
        "    # Filter out irrelevant rows\n",
        "    df = df.filter(~df[\"Colour\"].contains(\"Height:\"))\n",
        "    df = df.filter(~df[\"Colour\"].contains(\"Width:\"))\n",
        "    df = df.withColumn(\"Colour\", df[\"Colour\"].substr(8, 100)) \n",
        "    df = df.filter(F.col(\"Colour\").isNotNull() & (F.col(\"Colour\") != \"\") &\n",
        "                   (F.col(\"Colour\").rlike(\"^\\d{1,3},\\d{1,3},\\d{1,3}$\")))\n",
        "\n",
        "    # Convert the \"Count\" column to int\n",
        "    df = df.withColumn(\"Count\", F.col(\"Count\").cast(\"int\"))\n",
        "    \n",
        "    # Aggregate counts by Colour\n",
        "    clean_df = df.groupBy(\"Colour\").agg(F.sum(\"Count\").alias(\"TotalCount\"))\n",
        "    \n",
        "    # Convert to pandas DataFrame\n",
        "    pandas_df = clean_df.toPandas()\n",
        "\n",
        "    # Exclude white ('250,250,250') colour and get top and bottom colours\n",
        "    top_20_colours = pandas_df[pandas_df['Colour'] != '250,250,250'].nlargest(20, 'TotalCount')\n",
        "    bottom_20_colours = pandas_df.nsmallest(20, 'TotalCount')\n",
        "\n",
        "    # Create a bar plot for top 20 colours\n",
        "    plt.figure(figsize=(15, 10))\n",
        "    sns.barplot(x='TotalCount', y='Colour', data=top_20_colours, hue='Colour', palette=\"viridis\")\n",
        "    plt.title(f'{title_prefix}: Top 20 Colour Distribution')\n",
        "    plt.xlabel('Count of Occurrences')\n",
        "    plt.ylabel('Colour (RGB)')\n",
        "    plt.savefig(f'/mnt/Results/{title_prefix}_top.png', bbox_inches='tight')\n",
        "    plt.tight_layout()\n",
        "    plt.show()\n",
        "\n",
        "    # Create a bar plot for bottom 20 colours\n",
        "    plt.figure(figsize=(15, 10))\n",
        "    sns.barplot(x='TotalCount', y='Colour', data=bottom_20_colours, hue='Colour', palette=\"viridis\")\n",
        "    plt.title(f'{title_prefix}: Bottom 20 Colour Distribution')\n",
        "    plt.xlabel('Count of Occurrences')\n",
        "    plt.ylabel('Colour (RGB)')\n",
        "    plt.savefig(f'/mnt/Results/{title_prefix}_btm.png', bbox_inches='tight')\n",
        "    plt.tight_layout()\n",
        "    plt.show()\n",
        "\n",
        "    # Plot a pie chart for top 15 colours (excluding '250,250,250')\n",
        "    valid_data = pandas_df[pandas_df['Colour'].apply(is_valid_rgb)]\n",
        "    valid_data['Colour'] = valid_data['Colour'].apply(lambda x: tuple(map(int, x.split(','))))\n",
        "    valid_data = valid_data[valid_data['Colour'] != (250, 250, 250)] #drop background\n",
        "    valid_data = valid_data[(valid_data['Colour'] != (0, 0, 0)) & (valid_data['Colour'] != (200, 200, 200)) & (valid_data['Colour'] != (50, 50, 50)) & (valid_data['Colour'] != (150, 150, 150)) & (valid_data['Colour'] != (100, 100, 100))]  #drop coomon colours acrross season\n",
        "    top_colors = valid_data.nlargest(15, 'TotalCount')\n",
        "\n",
        "    plt.figure(figsize=(15, 10))\n",
        "    plt.pie(\n",
        "        top_colors['TotalCount'], \n",
        "        labels=None,\n",
        "        colors=[(r/255, g/255, b/255) for r, g, b in top_colors['Colour']],  # Normalize RGB to 0-1 for matplotlib\n",
        "        autopct='%1.1f%%', \n",
        "        startangle=140,\n",
        "        pctdistance=0.85,  # Move percentage labels out of the pie chart\n",
        "        wedgeprops={'linewidth': 1},\n",
        "        textprops={'color': 'white'}\n",
        "    )\n",
        "    plt.title(f'{title_prefix}: Top 15 Colour Distribution (RGB Matching Pie Chart)')\n",
        "    plt.savefig(f'/mnt/Results/{title_prefix}_pie.png', bbox_inches='tight')\n",
        "    plt.tight_layout()\n",
        "    plt.show()\n"
      ]
    },
    {
      "cell_type": "code",
      "execution_count": 2,
      "metadata": {
        "autoscroll": "auto"
      },
      "outputs": [],
      "source": [
        "process_hdfs_and_plot(\"/user/thokozile/output/Summer/*\", \"Summer\")"
      ]
    },
    {
      "cell_type": "code",
      "execution_count": 3,
      "metadata": {
        "autoscroll": "auto"
      },
      "outputs": [],
      "source": [
        "process_hdfs_and_plot(\"/user/thokozile/output/Winter/*\", \"Winter\")"
      ]
    },
    {
      "cell_type": "code",
      "execution_count": 4,
      "metadata": {
        "autoscroll": "auto"
      },
      "outputs": [],
      "source": [
        "process_hdfs_and_plot(\"/user/thokozile/output/Fall/*\", \"Fall\")"
      ]
    },
    {
      "cell_type": "code",
      "execution_count": 5,
      "metadata": {
        "autoscroll": "auto"
      },
      "outputs": [],
      "source": [
        "process_hdfs_and_plot(\"/user/thokozile/output/Spring/*\", \"spring\")"
      ]
    },
    {
      "cell_type": "code",
      "execution_count": 6,
      "metadata": {
        "autoscroll": "auto"
      },
      "outputs": [],
      "source": [
        "process_hdfs_and_plot(\"/user/thokozile/output/Other/*\", \"Other\")"
      ]
    }
  ],
  "metadata": {
    "kernelspec": {
      "display_name": "base",
      "language": "python",
      "name": "python3"
    },
    "language_info": {
      "codemirror_mode": "text/x-scala",
      "file_extension": ".scala",
      "mimetype": "text/x-scala",
      "name": "python",
      "pygments_lexer": "scala",
      "version": "3.11.7"
    },
    "name": "Ver2"
  },
  "nbformat": 4,
  "nbformat_minor": 2
}
