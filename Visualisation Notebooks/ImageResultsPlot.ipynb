﻿{
  "metadata": {
    "name": "Ver2",
    "kernelspec": {
      "language": "scala",
      "name": "spark2-scala"
    },
    "language_info": {
      "codemirror_mode": "text/x-scala",
      "file_extension": ".scala",
      "mimetype": "text/x-scala",
      "name": "scala",
      "pygments_lexer": "scala"
    }
  },
  "nbformat": 4,
  "nbformat_minor": 2,
  "cells": [
    {
      "cell_type": "code",
      "execution_count": 0,
      "metadata": {
        "autoscroll": "auto"
      },
      "outputs": [],
      "source": "from pyspark.sql import SparkSession\nfrom pyspark.sql import functions as F\nfrom pyspark.sql.types import StructType, StructField, StringType, IntegerType\nimport matplotlib.pyplot as plt\nimport seaborn as sns\nimport re\nimport webcolors\n\nspark \u003d SparkSession.builder.appName(\"Read HDFS Image Data\").getOrCreate()"
    },
    {
      "cell_type": "code",
      "execution_count": 1,
      "metadata": {
        "autoscroll": "auto"
      },
      "outputs": [],
      "source": "# Function to process each HDFS directory and generate the plots\ndef process_hdfs_and_plot(hdfs_path, title_prefix):\n    # Define schema\n    schema \u003d StructType([StructField(\"Colour\", StringType(), True),\n                         StructField(\"Count\", IntegerType(), True)])\n    \n    # Load data from HDFS\n    df \u003d spark.read.csv(hdfs_path, sep\u003d\u0027\\t\u0027, header\u003dFalse, schema\u003dschema)\n    \n    # Filter out irrelevant rows and clean the data\n    df \u003d df.filter(~df[\"Colour\"].contains(\"Height:\"))\n    df \u003d df.filter(~df[\"Colour\"].contains(\"Width:\"))\n    df \u003d df.withColumn(\"Colour\", df[\"Colour\"].substr(8, 100))  # Remove \u0027Color: \u0027\n    df \u003d df.filter(F.col(\"Colour\").isNotNull() \u0026 (F.col(\"Colour\") !\u003d \"\") \u0026\n                   (F.col(\"Colour\").rlike(\"^\\d{1,3},\\d{1,3},\\d{1,3}$\")))\n\n    # Convert the \"Count\" column to int\n    df \u003d df.withColumn(\"Count\", F.col(\"Count\").cast(\"int\"))\n    \n    # Aggregate counts by Colour\n    clean_df \u003d df.groupBy(\"Colour\").agg(F.sum(\"Count\").alias(\"TotalCount\"))\n    \n    # Convert to pandas DataFrame\n    pandas_df \u003d clean_df.toPandas()\n\n    # Exclude \u0027250,250,250\u0027 colour and get top and bottom colours\n    top_20_colours \u003d pandas_df[pandas_df[\u0027Colour\u0027] !\u003d \u0027250,250,250\u0027].nlargest(20, \u0027TotalCount\u0027)\n    bottom_20_colours \u003d pandas_df.nsmallest(20, \u0027TotalCount\u0027)\n\n    # Create a bar plot for top 20 colours\n    plt.figure(figsize\u003d(15, 10))\n    sns.barplot(x\u003d\u0027TotalCount\u0027, y\u003d\u0027Colour\u0027, data\u003dtop_20_colours, hue\u003d\u0027Colour\u0027, palette\u003d\"viridis\")\n    plt.title(f\u0027{title_prefix}: Top 20 Colour Distribution\u0027)\n    plt.xlabel(\u0027Count of Occurrences\u0027)\n    plt.ylabel(\u0027Colour (RGB)\u0027)\n    plt.savefig(f\u0027/mnt/Results/{title_prefix}_top.png\u0027, bbox_inches\u003d\u0027tight\u0027)\n    plt.tight_layout()\n    plt.show()\n\n    # Create a bar plot for bottom 20 colours\n    plt.figure(figsize\u003d(15, 10))\n    sns.barplot(x\u003d\u0027TotalCount\u0027, y\u003d\u0027Colour\u0027, data\u003dbottom_20_colours, hue\u003d\u0027Colour\u0027, palette\u003d\"viridis\")\n    plt.title(f\u0027{title_prefix}: Bottom 20 Colour Distribution\u0027)\n    plt.xlabel(\u0027Count of Occurrences\u0027)\n    plt.ylabel(\u0027Colour (RGB)\u0027)\n    plt.savefig(f\u0027/mnt/Results/{title_prefix}_btm.png\u0027, bbox_inches\u003d\u0027tight\u0027)\n    plt.tight_layout()\n    plt.show()\n    \n    # Define a function to check if a value is a valid RGB string\n    def is_valid_rgb(value):\n        return re.match(r\u0027^\\d{1,3},\\d{1,3},\\d{1,3}$\u0027, value) is not None\n\n    # Plot a pie chart for top 15 colours (excluding \u0027250,250,250\u0027)\n    valid_data \u003d pandas_df[pandas_df[\u0027Colour\u0027].apply(is_valid_rgb)]\n    valid_data[\u0027Colour\u0027] \u003d valid_data[\u0027Colour\u0027].apply(lambda x: tuple(map(int, x.split(\u0027,\u0027))))\n    valid_data \u003d valid_data[valid_data[\u0027Colour\u0027] !\u003d (250, 250, 250)] #drop background\n    valid_data \u003d valid_data[(valid_data[\u0027Colour\u0027] !\u003d (0, 0, 0)) \u0026 (valid_data[\u0027Colour\u0027] !\u003d (200, 200, 200)) \u0026 (valid_data[\u0027Colour\u0027] !\u003d (50, 50, 50)) \u0026 (valid_data[\u0027Colour\u0027] !\u003d (150, 150, 150)) \u0026 (valid_data[\u0027Colour\u0027] !\u003d (100, 100, 100))]  #drop coomon colours acrross season\n    top_colors \u003d valid_data.nlargest(15, \u0027TotalCount\u0027)\n\n    plt.figure(figsize\u003d(15, 10))\n    plt.pie(\n        top_colors[\u0027TotalCount\u0027], \n        labels\u003dNone,\n        colors\u003d[(r/255, g/255, b/255) for r, g, b in top_colors[\u0027Colour\u0027]],  # Normalize RGB to 0-1 for matplotlib\n        autopct\u003d\u0027%1.1f%%\u0027, \n        startangle\u003d140,\n        pctdistance\u003d0.85,  # Move percentage labels out of the pie chart\n        wedgeprops\u003d{\u0027linewidth\u0027: 1},\n        textprops\u003d{\u0027color\u0027: \u0027white\u0027}\n    )\n    plt.title(f\u0027{title_prefix}: Top 15 Colour Distribution (RGB Matching Pie Chart)\u0027)\n    plt.savefig(f\u0027/mnt/Results/{title_prefix}_pie.png\u0027, bbox_inches\u003d\u0027tight\u0027)\n    plt.tight_layout()\n    plt.show()"
    },
    {
      "cell_type": "code",
      "execution_count": 2,
      "metadata": {
        "autoscroll": "auto"
      },
      "outputs": [],
      "source": "process_hdfs_and_plot(\"/user/thokozile/output/Summer/*\", \"Summer\")"
    },
    {
      "cell_type": "code",
      "execution_count": 3,
      "metadata": {
        "autoscroll": "auto"
      },
      "outputs": [],
      "source": "process_hdfs_and_plot(\"/user/thokozile/output/Winter/*\", \"Winter\")"
    },
    {
      "cell_type": "code",
      "execution_count": 4,
      "metadata": {
        "autoscroll": "auto"
      },
      "outputs": [],
      "source": "process_hdfs_and_plot(\"/user/thokozile/output/Fall/*\", \"Fall\")"
    },
    {
      "cell_type": "code",
      "execution_count": 5,
      "metadata": {
        "autoscroll": "auto"
      },
      "outputs": [],
      "source": "process_hdfs_and_plot(\"/user/thokozile/output/Spring/*\", \"spring\")"
    },
    {
      "cell_type": "code",
      "execution_count": 6,
      "metadata": {
        "autoscroll": "auto"
      },
      "outputs": [],
      "source": "process_hdfs_and_plot(\"/user/thokozile/output/Other/*\", \"Other\")"
    }
  ]
}