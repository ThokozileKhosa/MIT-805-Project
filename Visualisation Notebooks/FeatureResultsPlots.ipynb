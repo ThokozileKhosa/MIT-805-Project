﻿{
  "metadata": {
    "name": "Visualisation",
    "kernelspec": {
      "language": "scala",
      "name": "spark2-scala"
    },
    "language_info": {
      "codemirror_mode": "text/x-scala",
      "file_extension": ".scala",
      "mimetype": "text/x-scala",
      "name": "scala",
      "pygments_lexer": "scala"
    }
  },
  "nbformat": 4,
  "nbformat_minor": 2,
  "cells": [
    {
      "cell_type": "code",
      "execution_count": 0,
      "metadata": {
        "autoscroll": "auto"
      },
      "outputs": [],
      "source": "from pyspark.sql import SparkSession\nfrom pyspark.sql import functions as F\nfrom pyspark.sql.types import StructType, StructField, StringType, IntegerType\nimport matplotlib.pyplot as plt\nimport seaborn as sns\nimport re\n\n# Initialize SparkSession\nspark \u003d SparkSession.builder.appName(\"Test\").getOrCreate()\n\n# Test Spark context\n# print(spark.sparkContext.getConf().getAll())"
    },
    {
      "cell_type": "code",
      "execution_count": 1,
      "metadata": {
        "autoscroll": "auto"
      },
      "outputs": [],
      "source": "# Load the updated data from HDFS\n#df \u003d spark.read.csv(\"hdfs:///user/thokozile/outputMetaData\", header\u003dFalse, inferSchema\u003dTrue)\ndf \u003d spark.read.csv(\"hdfs:///user/thokozile/outputMetaData/part-r*\", header\u003dFalse, inferSchema\u003dTrue)\n\n# Show the data\ndf.show()\n"
    },
    {
      "cell_type": "code",
      "execution_count": 2,
      "metadata": {
        "autoscroll": "auto"
      },
      "outputs": [],
      "source": "columns \u003d [\"_c0\", \"_c1\", \"_c2\", \"_c3\", \"_c4\",\"_c5\"]\n\n# Clean and split the DataFrame using regex\nfinal_df \u003d df.select(\n    F.regexp_extract(F.trim(df[\"_c0\"]), r\"([\\w\\s]+)\\s+([0-9.]+)\", 1).alias(\"Product\"),  # get product name\n    F.regexp_extract(F.trim(df[\"_c0\"]), r\"([\\w\\s]+)\\s+([0-9.]+)\", 2).cast(\"double\").alias(\"Price\"),  # get price and convert to double\n    *[F.trim(df[col]).alias(col) for col in columns[1:]]\n)"
    },
    {
      "cell_type": "code",
      "execution_count": 3,
      "metadata": {
        "autoscroll": "auto"
      },
      "outputs": [],
      "source": "\nrow_count \u003d final_df.count()\n\n# Print the result\nprint(f\"Number of entries in the DataFrame: {row_count}\")\n\nfinal_df.show(truncate\u003dFalse)\n"
    },
    {
      "cell_type": "code",
      "execution_count": 4,
      "metadata": {
        "autoscroll": "auto"
      },
      "outputs": [],
      "source": "from pyspark.sql.functions import col\nfinal_df \u003d final_df.withColumnRenamed(\"_c1\", \"TopColour1\") \\\n       .withColumnRenamed(\"_c2\", \"TopColour2\") \\\n       .withColumnRenamed(\"_c3\", \"DominantSeason\") \\\n       .withColumnRenamed(\"_c4\", \"DominantGender\") \\\n       .withColumnRenamed(\"_c5\", \"ItemsCount\")\n\nfinal_df \u003d final_df.withColumn(\u0027ItemsCount\u0027, col(\u0027ItemsCount\u0027).cast(\u0027int\u0027))\nfinal_df \u003d final_df.withColumn(\u0027Price\u0027, col(\u0027Price\u0027).cast(\u0027float\u0027))\n\n# Show the data\nfinal_df.show()"
    },
    {
      "cell_type": "code",
      "execution_count": 5,
      "metadata": {
        "autoscroll": "auto"
      },
      "outputs": [],
      "source": "pandas_df \u003d final_df.toPandas()"
    },
    {
      "cell_type": "code",
      "execution_count": 6,
      "metadata": {
        "autoscroll": "auto"
      },
      "outputs": [],
      "source": "# Select top 15 products by average price\ntop_n \u003d pandas_df.groupby(\"Product\")[\"Price\"].mean().nlargest(15).index\ntop_n_df \u003d pandas_df[pandas_df[\"Product\"].isin(top_n)]\ncustom_palette \u003d sns.color_palette([\"#2ecc71\", \"#3498db\", \"#e74c3c\", \"#9b59b6\", \"#f1c40f\", \"#e67e22\", \"#1abc9c\", \"#ff6347\", \"#8e44ad\", \"#bdc3c7\",\"#34495e\", \"#d35400\", \"#16a085\", \"#c0392b\", \"#f39c12\"])\n\n# Plot only the top N products\nplt.figure(figsize\u003d(16, 8))\nsns.barplot(x\u003d\"Product\", y\u003d\"Price\", data\u003dtop_n_df, hue\u003d\"Product\", palette\u003dcustom_palette, legend\u003dFalse)\nplt.xticks(rotation\u003d45)\nplt.title(\"Average Price for Top 15 Article Types\")\nplt.savefig(\u0027/mnt/Results/Average_Price.png\u0027, bbox_inches\u003d\u0027tight\u0027)\n\nplt.show()"
    },
    {
      "cell_type": "code",
      "execution_count": 7,
      "metadata": {
        "autoscroll": "auto"
      },
      "outputs": [],
      "source": "# Group by Product and calculate the count and average price\nproduct_counts \u003d pandas_df.groupby(\"Product\").size().reset_index(name\u003d\"ItemsCount\")\nproduct_avg_price \u003d pandas_df.groupby(\"Product\")[\"Price\"].mean().reset_index(name\u003d\"AveragePrice\")\nproduct_info \u003d product_counts.merge(product_avg_price, on\u003d\"Product\")\ntop_n_frequent \u003d product_info.nlargest(15, \"ItemsCount\")\ntop_n_df \u003d pandas_df[pandas_df[\"Product\"].isin(top_n_frequent[\"Product\"])]\n\n# Plot the prices of the top 15 most frequent products\nplt.figure(figsize\u003d(16, 8))\nsns.barplot(x\u003d\"Product\", y\u003d\"Price\", data\u003dtop_n_df, hue\u003d\"Product\", palette\u003dcustom_palette, dodge\u003dFalse)\nplt.xticks(rotation\u003d45)\nplt.title(\"Average Price for Top 15 Most Frequent Products\")\nplt.savefig(\u0027/mnt/Results/Average_Price_Top_Frequent.png\u0027, bbox_inches\u003d\u0027tight\u0027)\n\nplt.show()\n"
    },
    {
      "cell_type": "code",
      "execution_count": 8,
      "metadata": {
        "autoscroll": "auto"
      },
      "outputs": [],
      "source": "# Group by Product and calculate the count and average price\nproduct_counts \u003d pandas_df.groupby(\"Product\").size().reset_index(name\u003d\"ItemsCount\")\nproduct_avg_price \u003d pandas_df.groupby(\"Product\")[\"Price\"].mean().reset_index(name\u003d\"AveragePrice\")\nproduct_info \u003d product_counts.merge(product_avg_price, on\u003d\"Product\")\ntop_n_frequent \u003d product_info.nsmallest(15, \"ItemsCount\")\ntop_n_df \u003d pandas_df[pandas_df[\"Product\"].isin(top_n_frequent[\"Product\"])]\n\n# Plot the prices of the top 15 most frequent products\nplt.figure(figsize\u003d(16, 8))\nsns.barplot(x\u003d\"Product\", y\u003d\"Price\", data\u003dtop_n_df, hue\u003d\"Product\", palette\u003dcustom_palette, dodge\u003dFalse)\nplt.xticks(rotation\u003d45)\nplt.title(\"Average Price for Bottom 15 Most Frequent Products\")\nplt.savefig(\u0027/mnt/Results/Average_Price_Bottom_Frequent.png\u0027, bbox_inches\u003d\u0027tight\u0027)\n\nplt.show()\n"
    },
    {
      "cell_type": "code",
      "execution_count": 9,
      "metadata": {
        "autoscroll": "auto"
      },
      "outputs": [],
      "source": "# Grouping by DominantGender to sum the ItemsCount\ngender_counts \u003d final_df.groupby(\u0027DominantGender\u0027).sum(\u0027ItemsCount\u0027)\ngender_counts \u003d gender_counts.toPandas()\n\nprint(gender_counts)\n"
    },
    {
      "cell_type": "code",
      "execution_count": 10,
      "metadata": {
        "autoscroll": "auto"
      },
      "outputs": [],
      "source": "# Pie chart\ncolours \u003d [\u0027#3498db\u0027,\u0027#e74c3c\u0027,\u0027#ff69b4\u0027, \u0027#9b59b6\u0027]\n\nplt.figure(figsize\u003d(8, 8))\nplt.pie(gender_counts[\u0027sum(ItemsCount)\u0027], labels\u003dgender_counts[\u0027DominantGender\u0027], autopct\u003d\u0027%1.1f%%\u0027, startangle\u003d90, colors\u003dcolours)\nplt.title(\u0027Item  Distribution by Gender\u0027)\nplt.savefig(\u0027/mnt/Results/Gender_distribution.png\u0027, bbox_inches\u003d\u0027tight\u0027)\n\nplt.show()\n"
    },
    {
      "cell_type": "code",
      "execution_count": 11,
      "metadata": {
        "autoscroll": "auto"
      },
      "outputs": [],
      "source": "import pandas as pd\nimport matplotlib.pyplot as plt\nimport seaborn as sns\n\ncombined_colours \u003d pd.concat([pandas_df[\u0027TopColour1\u0027], pandas_df[\u0027TopColour2\u0027]])\ncolour_counts \u003d combined_colours.value_counts().reset_index()\ncolour_counts.columns \u003d [\u0027Colour\u0027, \u0027Count\u0027]\n\ntop_colours \u003d colour_counts.nlargest(15, \u0027Count\u0027)[\u0027Colour\u0027]\n\n# Filter the original DataFrame for only the top 10 colors\nfiltered_df \u003d pandas_df[(pandas_df[\u0027TopColour1\u0027].isin(top_colours)) | (pandas_df[\u0027TopColour2\u0027].isin(top_colours))]\n\n# Melt the filtered DataFrame to long format\nmelted_df \u003d filtered_df.melt(id_vars\u003d[\u0027DominantSeason\u0027], value_vars\u003d[\u0027TopColour1\u0027, \u0027TopColour2\u0027], var_name\u003d\u0027ColourType\u0027, value_name\u003d\u0027Colour\u0027)\nmelted_df \u003d melted_df[melted_df[\u0027Colour\u0027].isin(top_colours)]\n\n# Set the figure size\nplt.figure(figsize\u003d(15, 8))\n\n# Create a count plot with hue for DominantSeason\nsns.countplot(data\u003dmelted_df, x\u003d\u0027Colour\u0027, hue\u003d\u0027DominantSeason\u0027, palette\u003d\u0027viridis\u0027)\n\n# Set plot labels and title\nplt.title(\u0027Count of Items per Top Colour by Season (Top 15 Colours)\u0027)\nplt.xlabel(\u0027Top Colour\u0027)\nplt.ylabel(\u0027Count of Items\u0027)\nplt.xticks(rotation\u003d45)\nplt.legend(title\u003d\u0027Season\u0027)\nplt.savefig(\u0027/mnt/Results/Season_colours.png\u0027, bbox_inches\u003d\u0027tight\u0027)\n\n# Display the plot\nplt.show()\n"
    }
  ]
}