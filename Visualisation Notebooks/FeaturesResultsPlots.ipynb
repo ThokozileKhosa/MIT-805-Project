{
  "cells": [
    {
      "cell_type": "code",
      "execution_count": 0,
      "metadata": {
        "autoscroll": "auto"
      },
      "outputs": [],
      "source": [
        "from pyspark.sql import SparkSession\n",
        "from pyspark.sql import functions as F\n",
        "\n",
        "\n",
        "# Initialize SparkSession\n",
        "spark = SparkSession.builder.appName(\"Test\").getOrCreate()\n",
        "\n",
        "# Test Spark context\n",
        "# print(spark.sparkContext.getConf().getAll())"
      ]
    },
    {
      "cell_type": "code",
      "execution_count": 1,
      "metadata": {
        "autoscroll": "auto"
      },
      "outputs": [],
      "source": [
        "# Load the updated data from HDFS\n",
        "#df = spark.read.csv(\"hdfs:///user/thokozile/outputMetaData\", header=False, inferSchema=True)\n",
        "df = spark.read.csv(\"hdfs:///user/thokozile/outputMetaData/part-r*\", header=False, inferSchema=True)\n",
        "\n",
        "# Show the data\n",
        "df.show()\n"
      ]
    },
    {
      "cell_type": "code",
      "execution_count": 2,
      "metadata": {
        "autoscroll": "auto"
      },
      "outputs": [],
      "source": [
        "columns = [\"_c0\", \"_c1\", \"_c2\", \"_c3\", \"_c4\",\"_c5\"]\n",
        "\n",
        "# Clean and split the DataFrame using regex\n",
        "final_df = df.select(\n",
        "    F.regexp_extract(F.trim(df[\"_c0\"]), r\"([\\w\\s]+)\\s+([0-9.]+)\", 1).alias(\"Product\"),  # get product name\n",
        "    F.regexp_extract(F.trim(df[\"_c0\"]), r\"([\\w\\s]+)\\s+([0-9.]+)\", 2).cast(\"double\").alias(\"Price\"),  # get price and convert to double\n",
        "    *[F.trim(df[col]).alias(col) for col in columns[1:]]\n",
        ")"
      ]
    },
    {
      "cell_type": "code",
      "execution_count": 3,
      "metadata": {
        "autoscroll": "auto"
      },
      "outputs": [],
      "source": [
        "# Show the final cleaned DataFrame\n",
        "# Count the number of entries in the DataFrame\n",
        "row_count = final_df.count()\n",
        "\n",
        "print(f\"Number of entries in the DataFrame: {row_count}\")\n",
        "final_df.show(truncate=False)"
      ]
    },
    {
      "cell_type": "code",
      "execution_count": 4,
      "metadata": {
        "autoscroll": "auto"
      },
      "outputs": [],
      "source": [
        "from pyspark.sql.functions import col\n",
        "final_df = final_df.withColumnRenamed(\"_c1\", \"TopColour1\") \\\n",
        "       .withColumnRenamed(\"_c2\", \"TopColour2\") \\\n",
        "       .withColumnRenamed(\"_c3\", \"DominantSeason\") \\\n",
        "       .withColumnRenamed(\"_c4\", \"DominantGender\") \\\n",
        "       .withColumnRenamed(\"_c5\", \"ItemsCount\")\n",
        "\n",
        "final_df = final_df.withColumn('ItemsCount', col('ItemsCount').cast('int'))\n",
        "final_df = final_df.withColumn('Price', col('Price').cast('float'))\n",
        "\n",
        "final_df.show()"
      ]
    },
    {
      "cell_type": "code",
      "execution_count": 5,
      "metadata": {
        "autoscroll": "auto"
      },
      "outputs": [],
      "source": [
        "pandas_df = final_df.toPandas()"
      ]
    },
    {
      "cell_type": "code",
      "execution_count": 6,
      "metadata": {
        "autoscroll": "auto"
      },
      "outputs": [],
      "source": [
        "# Select top 10 products by average price\n",
        "top_n = pandas_df.groupby(\"Product\")[\"Price\"].mean().nlargest(15).index\n",
        "top_n_df = pandas_df[pandas_df[\"Product\"].isin(top_n)]\n",
        "custom_palette = sns.color_palette([\"#2ecc71\", \"#3498db\", \"#e74c3c\", \"#9b59b6\", \"#f1c40f\", \"#e67e22\", \"#1abc9c\", \"#ff6347\", \"#8e44ad\", \"#bdc3c7\",\"#34495e\", \"#d35400\", \"#16a085\", \"#c0392b\", \"#f39c12\"])\n",
        "\n",
        "# Plot only the top 15 products\n",
        "plt.figure(figsize=(16, 8))\n",
        "sns.barplot(x=\"Product\", y=\"Price\", data=top_n_df, hue=\"Product\", palette=custom_palette, legend=False)\n",
        "plt.xticks(rotation=45)\n",
        "plt.title(\"Average Price for Top 15 Article Types\")\n",
        "plt.savefig('/mnt/Results/Average_Price.png', bbox_inches='tight')\n",
        "\n",
        "plt.show()"
      ]
    },
    {
      "cell_type": "code",
      "execution_count": null,
      "metadata": {},
      "outputs": [],
      "source": [
        "# Select bottom 10 products by average price\n",
        "top_n = pandas_df.groupby(\"Product\")[\"Price\"].mean().nsmallest(15).index\n",
        "top_n_df = pandas_df[pandas_df[\"Product\"].isin(top_n)]\n",
        "custom_palette = sns.color_palette([\"#2ecc71\", \"#3498db\", \"#e74c3c\", \"#9b59b6\", \"#f1c40f\", \"#e67e22\", \"#1abc9c\", \"#ff6347\", \"#8e44ad\", \"#bdc3c7\",\"#34495e\", \"#d35400\", \"#16a085\", \"#c0392b\", \"#f39c12\"])\n",
        "\n",
        "# Plot only the top 15 products\n",
        "plt.figure(figsize=(16, 8))\n",
        "sns.barplot(x=\"Product\", y=\"Price\", data=top_n_df, hue=\"Product\", palette=custom_palette, legend=False)\n",
        "plt.xticks(rotation=45)\n",
        "plt.title(\"Average Price for Top 15 Most Frequent Products\")\n",
        "plt.savefig('/mnt/Results/Average_Price.png', bbox_inches='tight')\n",
        "\n",
        "plt.show()"
      ]
    },
    {
      "cell_type": "code",
      "execution_count": 7,
      "metadata": {
        "autoscroll": "auto"
      },
      "outputs": [],
      "source": [
        "# Grouping by DominantGender to sum the ItemsCount\n",
        "gender_counts = final_df.groupby('DominantGender').sum('ItemsCount')\n",
        "gender_counts = gender_counts.toPandas()\n",
        "\n",
        "print(gender_counts)\n"
      ]
    },
    {
      "cell_type": "code",
      "execution_count": 8,
      "metadata": {
        "autoscroll": "auto"
      },
      "outputs": [],
      "source": [
        "# Pie chart\n",
        "colours = ['#3498db','#e74c3c','#ff69b4', '#9b59b6']\n",
        "\n",
        "plt.figure(figsize=(8, 8))\n",
        "plt.pie(gender_counts['sum(ItemsCount)'], labels=gender_counts['DominantGender'], autopct='%1.1f%%', startangle=90, colors=colours)\n",
        "plt.title('Item Count Distribution by Gender')\n",
        "plt.savefig('/mnt/Results/Gender_distribution.png', bbox_inches='tight')\n",
        "\n",
        "plt.show()\n"
      ]
    },
    {
      "cell_type": "code",
      "execution_count": 9,
      "metadata": {
        "autoscroll": "auto"
      },
      "outputs": [],
      "source": [
        "import pandas as pd\n",
        "import matplotlib.pyplot as plt\n",
        "import seaborn as sns\n",
        "\n",
        "combined_colours = pd.concat([pandas_df['TopColour1'], pandas_df['TopColour2']])\n",
        "colour_counts = combined_colours.value_counts().reset_index()\n",
        "colour_counts.columns = ['Colour', 'Count']\n",
        "\n",
        "top_colours = colour_counts.nlargest(15, 'Count')['Colour']\n",
        "\n",
        "# Filter the original DataFrame for only the top 10 colors\n",
        "filtered_df = pandas_df[(pandas_df['TopColour1'].isin(top_colours)) | (pandas_df['TopColour2'].isin(top_colours))]\n",
        "\n",
        "# Melt the filtered DataFrame to long format\n",
        "melted_df = filtered_df.melt(id_vars=['DominantSeason'], value_vars=['TopColour1', 'TopColour2'], var_name='ColourType', value_name='Colour')\n",
        "melted_df = melted_df[melted_df['Colour'].isin(top_colours)]\n",
        "\n",
        "# Set the figure size\n",
        "plt.figure(figsize=(15, 8))\n",
        "\n",
        "# Create a count plot with hue for DominantSeason\n",
        "sns.countplot(data=melted_df, x='Colour', hue='DominantSeason', palette='viridis')\n",
        "\n",
        "# Set plot labels and title\n",
        "plt.title('Count of Items per Top Colour by Season (Top 15 Colours)')\n",
        "plt.xlabel('Top Colour')\n",
        "plt.ylabel('Count of Items')\n",
        "plt.xticks(rotation=45)\n",
        "plt.legend(title='Season')\n",
        "plt.savefig('/mnt/Results/Season_colours.png', bbox_inches='tight')\n",
        "\n",
        "# Display the plot\n",
        "plt.show()\n"
      ]
    }
  ],
  "metadata": {
    "kernelspec": {
      "display_name": "base",
      "language": "python",
      "name": "python3"
    },
    "language_info": {
      "codemirror_mode": "text/x-scala",
      "file_extension": ".scala",
      "mimetype": "text/x-scala",
      "name": "python",
      "pygments_lexer": "scala",
      "version": "3.11.7"
    },
    "name": "Visualisation"
  },
  "nbformat": 4,
  "nbformat_minor": 2
}
